{
  "nbformat": 4,
  "nbformat_minor": 0,
  "metadata": {
    "colab": {
      "provenance": []
    },
    "kernelspec": {
      "name": "python3",
      "display_name": "Python 3"
    },
    "language_info": {
      "name": "python"
    }
  },
  "cells": [
    {
      "cell_type": "code",
      "execution_count": null,
      "metadata": {
        "colab": {
          "base_uri": "https://localhost:8080/"
        },
        "id": "0GzcVOgQlzZO",
        "outputId": "ffd32b86-6346-4a2e-baf8-4b20c8450f05"
      },
      "outputs": [
        {
          "output_type": "stream",
          "name": "stdout",
          "text": [
            "hello world\n",
            "hello kgrcet\n",
            "welcome to python workshop\n"
          ]
        }
      ],
      "source": [
        "p)rint('hello world')\n",
        "print('hello kgrcet')\n",
        "print('welcome to python workshop'"
      ]
    },
    {
      "cell_type": "code",
      "source": [
        "name=input(\"enter your name:\")\n",
        "print (\"hello,\"+name)\n"
      ],
      "metadata": {
        "colab": {
          "base_uri": "https://localhost:8080/"
        },
        "id": "OjIDNdAImjsj",
        "outputId": "a50fae22-d47b-4a77-c583-68f29eba1b0f"
      },
      "execution_count": null,
      "outputs": [
        {
          "output_type": "stream",
          "name": "stdout",
          "text": [
            "enter your name:gopi chand\n",
            "hello,gopi chand\n"
          ]
        }
      ]
    },
    {
      "cell_type": "code",
      "source": [
        "roll=input(\"enter your number:\")\n",
        "print(roll)\n"
      ],
      "metadata": {
        "colab": {
          "base_uri": "https://localhost:8080/"
        },
        "id": "3JnVNeRPn9JE",
        "outputId": "5f3bd8b9-36b3-4ddf-9d8e-9b2ee049b59c"
      },
      "execution_count": null,
      "outputs": [
        {
          "output_type": "stream",
          "name": "stdout",
          "text": [
            "enter your number:58\n",
            "58\n"
          ]
        }
      ]
    },
    {
      "cell_type": "code",
      "source": [
        "print(\"ente the number\")\n",
        "a=int(input(\"enter first number\"))\n",
        "b=int (input(\"enter second number\"))\n",
        "print(a+b)"
      ],
      "metadata": {
        "id": "I-N6mnwsn-fD",
        "colab": {
          "base_uri": "https://localhost:8080/"
        },
        "outputId": "8f170611-13c0-4a98-8da2-18ae66a47780"
      },
      "execution_count": null,
      "outputs": [
        {
          "output_type": "stream",
          "name": "stdout",
          "text": [
            "ente the number\n",
            "enter first number14\n",
            "enter second number7\n",
            "21\n"
          ]
        }
      ]
    },
    {
      "cell_type": "markdown",
      "source": [],
      "metadata": {
        "id": "AoqahInNnwX1"
      }
    },
    {
      "cell_type": "code",
      "source": [
        "x=10\n",
        "print(x)"
      ],
      "metadata": {
        "colab": {
          "base_uri": "https://localhost:8080/"
        },
        "id": "nmGulypDtSoH",
        "outputId": "e8acfc63-3e9f-4dd8-95a9-cf46313cc3d0"
      },
      "execution_count": null,
      "outputs": [
        {
          "output_type": "stream",
          "name": "stdout",
          "text": [
            "10\n"
          ]
        }
      ]
    },
    {
      "cell_type": "code",
      "source": [
        "age=18\n",
        "print(\"i am \"+str(age)+\" years old.\")"
      ],
      "metadata": {
        "id": "_4mgH2gZ7-d-",
        "colab": {
          "base_uri": "https://localhost:8080/"
        },
        "outputId": "292b5b0d-db93-4f5b-bb00-c5b825115fa0"
      },
      "execution_count": null,
      "outputs": [
        {
          "output_type": "stream",
          "name": "stdout",
          "text": [
            "i am 18 years old.\n"
          ]
        }
      ]
    },
    {
      "cell_type": "code",
      "source": [
        "A=700\n",
        "a=\"KGRCET\"\n",
        "print(x)\n",
        "print(y)"
      ],
      "metadata": {
        "id": "LBmlGMmx8krw",
        "colab": {
          "base_uri": "https://localhost:8080/"
        },
        "outputId": "c756182e-8770-49c7-fa21-ea3f04c46611"
      },
      "execution_count": null,
      "outputs": [
        {
          "output_type": "stream",
          "name": "stdout",
          "text": [
            "3\n",
            "3\n"
          ]
        }
      ]
    },
    {
      "cell_type": "code",
      "source": [
        "X=\"python\"\n",
        "y=is python\n",
        "z=\"exellent\"\n",
        "print(x)\n",
        "print(y)"
      ],
      "metadata": {
        "id": "YDu_2UwP-Ajz"
      },
      "execution_count": null,
      "outputs": []
    },
    {
      "cell_type": "code",
      "source": [
        "age=18\n",
        "print(\"i am \"+str(age)+\" years old.\")"
      ],
      "metadata": {
        "id": "9aHkmTCa-Qa9",
        "colab": {
          "base_uri": "https://localhost:8080/"
        },
        "outputId": "e28b9ffb-fd49-4556-9537-b513bad695e5"
      },
      "execution_count": null,
      "outputs": [
        {
          "output_type": "stream",
          "name": "stdout",
          "text": [
            "i am 18 years old.\n"
          ]
        }
      ]
    },
    {
      "cell_type": "code",
      "source": [
        "name=\"hi\"\n",
        "print(name)"
      ],
      "metadata": {
        "colab": {
          "base_uri": "https://localhost:8080/"
        },
        "id": "adqfuLv8rhNk",
        "outputId": "5c2550b8-6818-4921-fad1-d877714a8a70"
      },
      "execution_count": null,
      "outputs": [
        {
          "output_type": "stream",
          "name": "stdout",
          "text": [
            "hi\n"
          ]
        }
      ]
    },
    {
      "cell_type": "code",
      "source": [
        "import keyword\n",
        "\n",
        "#printing all keywords at once using \"kwlist\"\n",
        "print(\"the list of keywords is:\")\n",
        "print(keyword.kwlist)"
      ],
      "metadata": {
        "colab": {
          "base_uri": "https://localhost:8080/"
        },
        "id": "uP5QlpO4sE4Y",
        "outputId": "b87a9820-ab4b-4762-e20e-7122081740db"
      },
      "execution_count": null,
      "outputs": [
        {
          "output_type": "stream",
          "name": "stdout",
          "text": [
            "the list of keywords is:\n",
            "['False', 'None', 'True', 'and', 'as', 'assert', 'async', 'await', 'break', 'class', 'continue', 'def', 'del', 'elif', 'else', 'except', 'finally', 'for', 'from', 'global', 'if', 'import', 'in', 'is', 'lambda', 'nonlocal', 'not', 'or', 'pass', 'raise', 'return', 'try', 'while', 'with', 'yield']\n"
          ]
        }
      ]
    },
    {
      "cell_type": "code",
      "source": [
        "x=str(3)\n",
        "y=int(3)\n",
        "z=float(3.0)\n",
        "print(x)\n",
        "print(y)\n",
        "print(z)"
      ],
      "metadata": {
        "colab": {
          "base_uri": "https://localhost:8080/"
        },
        "id": "GKveBlP0s8k1",
        "outputId": "225d2494-a47b-4e71-96d1-6d39b58c7c57"
      },
      "execution_count": null,
      "outputs": [
        {
          "output_type": "stream",
          "name": "stdout",
          "text": [
            "3\n",
            "3\n",
            "3.0\n"
          ]
        }
      ]
    },
    {
      "cell_type": "code",
      "source": [
        "x=str(3)\n",
        "y=int(3)\n",
        "z=float(3.0)\n",
        "print(x)\n",
        "print(y)\n",
        "print(z)"
      ],
      "metadata": {
        "id": "zOEpF1M3tuzj",
        "colab": {
          "base_uri": "https://localhost:8080/"
        },
        "outputId": "eb6fa327-c652-4823-cdc4-d251f8588042"
      },
      "execution_count": null,
      "outputs": [
        {
          "output_type": "stream",
          "name": "stdout",
          "text": [
            "3\n",
            "3\n",
            "3.0\n"
          ]
        }
      ]
    },
    {
      "cell_type": "code",
      "source": [
        "x=True\n",
        "#display x:\n",
        "print(x)\n",
        "#display the data type of x:\n",
        "print(type(x))"
      ],
      "metadata": {
        "id": "HX3coFZwuAlu",
        "colab": {
          "base_uri": "https://localhost:8080/"
        },
        "outputId": "1da867d2-9c98-4c9f-974f-baec73611d16"
      },
      "execution_count": null,
      "outputs": [
        {
          "output_type": "stream",
          "name": "stdout",
          "text": [
            "True\n",
            "<class 'bool'>\n"
          ]
        }
      ]
    },
    {
      "cell_type": "code",
      "source": [
        "a=5\n",
        "print(type(a))\n",
        "\n",
        "b=5\n",
        "print(type(b))\n",
        "\n",
        "c=2+4j\n",
        "print(type(c))"
      ],
      "metadata": {
        "colab": {
          "base_uri": "https://localhost:8080/"
        },
        "id": "xiY88MPeHIai",
        "outputId": "eba5f8c4-1bc7-4325-f2e5-0b0367974227"
      },
      "execution_count": null,
      "outputs": [
        {
          "output_type": "stream",
          "name": "stdout",
          "text": [
            "<class 'int'>\n",
            "<class 'int'>\n",
            "<class 'complex'>\n"
          ]
        }
      ]
    },
    {
      "cell_type": "code",
      "source": [
        "s='welcome to python workshop'\n",
        "print(s)\n",
        "#check data(type(s))\n",
        "print(type(s))\n",
        "#acces string with index\n",
        "print(s[1])\n",
        "print(s[2])\n",
        "print(s[3])"
      ],
      "metadata": {
        "colab": {
          "base_uri": "https://localhost:8080/"
        },
        "id": "H1K7PXC6H0ex",
        "outputId": "7e8adc31-1f7a-4e97-f39e-bba289ad6f7d"
      },
      "execution_count": null,
      "outputs": [
        {
          "output_type": "stream",
          "name": "stdout",
          "text": [
            "welcome to python workshop\n",
            "<class 'str'>\n",
            "e\n",
            "l\n",
            "c\n"
          ]
        }
      ]
    },
    {
      "cell_type": "code",
      "source": [
        "string_one=\"I'M studying\"\n",
        "string_two=\" at KGRCET\"\n",
        "string_three=string_one +string_two\n",
        "print(string_three)"
      ],
      "metadata": {
        "colab": {
          "base_uri": "https://localhost:8080/"
        },
        "id": "QlJceYCzI18m",
        "outputId": "f0f4ac98-b7db-4bda-f1a9-f903ceb6c8fc"
      },
      "execution_count": null,
      "outputs": [
        {
          "output_type": "stream",
          "name": "stdout",
          "text": [
            "I'M studying at KGRCET\n"
          ]
        }
      ]
    },
    {
      "cell_type": "code",
      "source": [
        "'gopi chand'*7\n",
        "print(\"gopichand\"*7)"
      ],
      "metadata": {
        "colab": {
          "base_uri": "https://localhost:8080/"
        },
        "id": "Koora87fLQka",
        "outputId": "c7755b18-a21a-475f-8e59-5ffd55b3ef21"
      },
      "execution_count": null,
      "outputs": [
        {
          "output_type": "stream",
          "name": "stdout",
          "text": [
            "gopichandgopichandgopichandgopichandgopichandgopichandgopichand\n"
          ]
        }
      ]
    },
    {
      "cell_type": "code",
      "source": [
        "#empty list\n",
        "a=[]\n",
        "#list with int values\n",
        "a=[1,2,3]\n",
        "print(a)\n",
        "#list with mixed int and string\n",
        "b=[\"gopi chand\",\"hi\",\"python\",4,5]\n",
        "print(b)"
      ],
      "metadata": {
        "colab": {
          "base_uri": "https://localhost:8080/"
        },
        "id": "3lJivCgPMf6L",
        "outputId": "a85dfbd1-86bf-4865-98fd-c6e859945b4c"
      },
      "execution_count": null,
      "outputs": [
        {
          "output_type": "stream",
          "name": "stdout",
          "text": [
            "[1, 2, 3]\n",
            "['gopi chand', 'hi', 'python', 4, 5]\n"
          ]
        }
      ]
    },
    {
      "cell_type": "code",
      "source": [
        "alpha_list=[34,58,53,54,55]\n",
        "alpha_list.sort()\n",
        "alpha_list"
      ],
      "metadata": {
        "colab": {
          "base_uri": "https://localhost:8080/"
        },
        "id": "hM8ZD0IGQsfW",
        "outputId": "254066ae-9441-484e-f77f-0755784d0a46"
      },
      "execution_count": null,
      "outputs": [
        {
          "output_type": "execute_result",
          "data": {
            "text/plain": [
              "[34, 53, 54, 55, 58]"
            ]
          },
          "metadata": {},
          "execution_count": 4
        }
      ]
    },
    {
      "cell_type": "code",
      "source": [
        "alpha_list[0:4]"
      ],
      "metadata": {
        "colab": {
          "base_uri": "https://localhost:8080/"
        },
        "id": "yUBxNBhTcg-c",
        "outputId": "bd506dc0-8afe-4cbb-e839-62af2b2093b2"
      },
      "execution_count": null,
      "outputs": [
        {
          "output_type": "execute_result",
          "data": {
            "text/plain": [
              "[34, 53, 54, 55]"
            ]
          },
          "metadata": {},
          "execution_count": 5
        }
      ]
    },
    {
      "cell_type": "code",
      "source": [
        "beta_list=[\"apple\",\"banana\",\"orange\"]\n",
        "beta_list.append(\"grape\")\n",
        "print(beta_list)"
      ],
      "metadata": {
        "colab": {
          "base_uri": "https://localhost:8080/"
        },
        "id": "XOnkXcBac4lK",
        "outputId": "a7884703-eb9b-4b84-f121-478486b2736b"
      },
      "execution_count": null,
      "outputs": [
        {
          "output_type": "stream",
          "name": "stdout",
          "text": [
            "['apple', 'banana', 'orange', 'grape']\n"
          ]
        }
      ]
    },
    {
      "cell_type": "code",
      "source": [],
      "metadata": {
        "id": "KwNgQNvUdah3"
      },
      "execution_count": null,
      "outputs": []
    }
  ]
}